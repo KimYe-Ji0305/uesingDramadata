{
 "cells": [
  {
   "cell_type": "markdown",
   "metadata": {},
   "source": [
    "# 미니프로젝트 샘플자료\n",
    "1. 필요한 라이브러리 목록\n",
    "<ol>\n",
    "    <li>데이터베이스: cx_Oracle</li>\n",
    "    <li>서버: flask</li>\n",
    "    <li>분석: numpy, pandas, matplotlib, seaborn</li>\n",
    "</ol>\n"
   ]
  },
  {
   "cell_type": "code",
   "execution_count": 1,
   "metadata": {
    "scrolled": true
   },
   "outputs": [],
   "source": [
    "import pandas as pd\n",
    "import numpy as np\n",
    "import matplotlib.pyplot as plt\n",
    "\n",
    "from flask import * "
   ]
  },
  {
   "cell_type": "code",
   "execution_count": 2,
   "metadata": {},
   "outputs": [
    {
     "name": "stdout",
     "output_type": "stream",
     "text": [
      " * Serving Flask app '__main__'\n",
      " * Debug mode: off\n"
     ]
    },
    {
     "name": "stderr",
     "output_type": "stream",
     "text": [
      "WARNING: This is a development server. Do not use it in a production deployment. Use a production WSGI server instead.\n",
      " * Running on http://192.168.219.61:9220\n",
      "Press CTRL+C to quit\n",
      "192.168.219.61 - - [18/Jul/2024 13:43:55] \"GET / HTTP/1.1\" 200 -\n",
      "192.168.219.61 - - [18/Jul/2024 13:43:55] \"GET /favicon.ico HTTP/1.1\" 404 -\n",
      "192.168.219.61 - - [18/Jul/2024 13:43:56] \"GET /page?name=1 HTTP/1.1\" 200 -\n"
     ]
    },
    {
     "name": "stdout",
     "output_type": "stream",
     "text": [
      "1\n"
     ]
    },
    {
     "name": "stderr",
     "output_type": "stream",
     "text": [
      "192.168.219.61 - - [18/Jul/2024 13:43:57] \"GET /page?name=2 HTTP/1.1\" 200 -\n",
      "192.168.219.61 - - [18/Jul/2024 13:43:57] \"GET /static/f.png HTTP/1.1\" 304 -\n"
     ]
    },
    {
     "name": "stdout",
     "output_type": "stream",
     "text": [
      "2\n"
     ]
    },
    {
     "name": "stderr",
     "output_type": "stream",
     "text": [
      "192.168.219.61 - - [18/Jul/2024 13:43:59] \"GET /page?name=1 HTTP/1.1\" 200 -\n"
     ]
    },
    {
     "name": "stdout",
     "output_type": "stream",
     "text": [
      "1\n"
     ]
    },
    {
     "name": "stderr",
     "output_type": "stream",
     "text": [
      "192.168.219.61 - - [18/Jul/2024 13:44:00] \"GET /page?name=4 HTTP/1.1\" 200 -\n"
     ]
    },
    {
     "name": "stdout",
     "output_type": "stream",
     "text": [
      "4\n"
     ]
    },
    {
     "name": "stderr",
     "output_type": "stream",
     "text": [
      "192.168.219.61 - - [18/Jul/2024 13:44:05] \"GET /page?name=3 HTTP/1.1\" 200 -\n"
     ]
    },
    {
     "name": "stdout",
     "output_type": "stream",
     "text": [
      "3\n"
     ]
    },
    {
     "name": "stderr",
     "output_type": "stream",
     "text": [
      "192.168.219.61 - - [18/Jul/2024 13:44:20] \"GET /page?name=6 HTTP/1.1\" 200 -\n",
      "192.168.219.61 - - [18/Jul/2024 13:44:20] \"GET /static/상위6개.png HTTP/1.1\" 304 -\n",
      "192.168.219.61 - - [18/Jul/2024 13:44:20] \"GET /static/범죄.png HTTP/1.1\" 304 -\n",
      "192.168.219.61 - - [18/Jul/2024 13:44:20] \"GET /static/final.png HTTP/1.1\" 304 -\n"
     ]
    },
    {
     "name": "stdout",
     "output_type": "stream",
     "text": [
      "6\n"
     ]
    },
    {
     "name": "stderr",
     "output_type": "stream",
     "text": [
      "192.168.219.61 - - [18/Jul/2024 13:56:47] \"GET /page?name=4 HTTP/1.1\" 200 -\n"
     ]
    },
    {
     "name": "stdout",
     "output_type": "stream",
     "text": [
      "4\n"
     ]
    },
    {
     "name": "stderr",
     "output_type": "stream",
     "text": [
      "192.168.219.61 - - [18/Jul/2024 13:56:48] \"GET /img?num=1 HTTP/1.1\" 200 -\n",
      "192.168.219.61 - - [18/Jul/2024 13:56:48] \"GET /static/그림01.png HTTP/1.1\" 304 -\n",
      "192.168.219.61 - - [18/Jul/2024 13:56:49] \"GET /img?num=2 HTTP/1.1\" 200 -\n",
      "192.168.219.61 - - [18/Jul/2024 13:56:49] \"GET /static/그림02.png HTTP/1.1\" 304 -\n",
      "192.168.219.61 - - [18/Jul/2024 13:56:50] \"GET /img?num=3 HTTP/1.1\" 200 -\n",
      "192.168.219.61 - - [18/Jul/2024 13:56:50] \"GET /static/그림03.png HTTP/1.1\" 304 -\n",
      "192.168.219.61 - - [18/Jul/2024 13:56:51] \"GET /img?num=4 HTTP/1.1\" 200 -\n",
      "192.168.219.61 - - [18/Jul/2024 13:56:51] \"GET /static/그림04.png HTTP/1.1\" 304 -\n",
      "192.168.219.61 - - [18/Jul/2024 13:56:51] \"GET /img?num=5 HTTP/1.1\" 200 -\n",
      "192.168.219.61 - - [18/Jul/2024 13:56:51] \"GET /static/그림05.png HTTP/1.1\" 304 -\n",
      "192.168.219.61 - - [18/Jul/2024 13:56:52] \"GET /img?num=6 HTTP/1.1\" 200 -\n",
      "192.168.219.61 - - [18/Jul/2024 13:56:52] \"GET /static/그림06.png HTTP/1.1\" 304 -\n"
     ]
    }
   ],
   "source": [
    "app = Flask(__name__)\n",
    "\n",
    "@app.route('/')\n",
    "def home():\n",
    "    return render_template('index.html')\n",
    "\n",
    "@app.route('/page')\n",
    "def page():\n",
    "    no = request.args.get('name', type=str) \n",
    "    print(no)\n",
    "    return render_template('page'+no+'.html')\n",
    "@app.route('/img')\n",
    "def img():\n",
    "    num = request.args.get('num', type=str)\n",
    "    return render_template('img copy '+num+'.html')\n",
    "\n",
    "app.run(host='192.168.219.61', port=9220)"
   ]
  },
  {
   "cell_type": "code",
   "execution_count": 3,
   "metadata": {},
   "outputs": [
    {
     "ename": "SyntaxError",
     "evalue": "invalid syntax (2390764169.py, line 1)",
     "output_type": "error",
     "traceback": [
      "\u001b[1;36m  Cell \u001b[1;32mIn[3], line 1\u001b[1;36m\u001b[0m\n\u001b[1;33m    <li><a href=\"{{url_for('templates',filename='img.html')}}\" target=\"code\">영문으로 된 자료(제목,장르명등)을 한국어로 번역</a></li>\u001b[0m\n\u001b[1;37m    ^\u001b[0m\n\u001b[1;31mSyntaxError\u001b[0m\u001b[1;31m:\u001b[0m invalid syntax\n"
     ]
    }
   ],
   "source": [
    "<li><a href=\"{{url_for('templates',filename='img.html')}}\" target=\"code\">영문으로 된 자료(제목,장르명등)을 한국어로 번역</a></li>"
   ]
  },
  {
   "cell_type": "code",
   "execution_count": null,
   "metadata": {},
   "outputs": [],
   "source": []
  }
 ],
 "metadata": {
  "kernelspec": {
   "display_name": "Python 3 (ipykernel)",
   "language": "python",
   "name": "python3"
  },
  "language_info": {
   "codemirror_mode": {
    "name": "ipython",
    "version": 3
   },
   "file_extension": ".py",
   "mimetype": "text/x-python",
   "name": "python",
   "nbconvert_exporter": "python",
   "pygments_lexer": "ipython3",
   "version": "3.11.7"
  }
 },
 "nbformat": 4,
 "nbformat_minor": 4
}
