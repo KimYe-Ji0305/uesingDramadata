{
 "cells": [
  {
   "cell_type": "code",
   "execution_count": 1,
   "metadata": {},
   "outputs": [],
   "source": [
    "import pandas as pd\n",
    "import time\n",
    "import numpy as np\n",
    "import matplotlib as plt"
   ]
  },
  {
   "cell_type": "code",
   "execution_count": 5,
   "metadata": {},
   "outputs": [],
   "source": [
    "data = pd.read_csv('data/data_sum.csv', encoding = 'utf-8')"
   ]
  },
  {
   "cell_type": "code",
   "execution_count": 6,
   "metadata": {},
   "outputs": [
    {
     "data": {
      "text/html": [
       "<div>\n",
       "<style scoped>\n",
       "    .dataframe tbody tr th:only-of-type {\n",
       "        vertical-align: middle;\n",
       "    }\n",
       "\n",
       "    .dataframe tbody tr th {\n",
       "        vertical-align: top;\n",
       "    }\n",
       "\n",
       "    .dataframe thead th {\n",
       "        text-align: right;\n",
       "    }\n",
       "</style>\n",
       "<table border=\"1\" class=\"dataframe\">\n",
       "  <thead>\n",
       "    <tr style=\"text-align: right;\">\n",
       "      <th></th>\n",
       "      <th>Name</th>\n",
       "      <th>Year of release</th>\n",
       "      <th>Genre</th>\n",
       "    </tr>\n",
       "  </thead>\n",
       "  <tbody>\n",
       "    <tr>\n",
       "      <th>0</th>\n",
       "      <td>무브 투 헤븐</td>\n",
       "      <td>2021</td>\n",
       "      <td>['인생', '드라마', '가족']</td>\n",
       "    </tr>\n",
       "    <tr>\n",
       "      <th>1</th>\n",
       "      <td>악의 꽃</td>\n",
       "      <td>2020</td>\n",
       "      <td>['스릴러', '로맨스', '범죄', '멜로드라마']</td>\n",
       "    </tr>\n",
       "    <tr>\n",
       "      <th>2</th>\n",
       "      <td>슬기로운 의사생활</td>\n",
       "      <td>2020</td>\n",
       "      <td>['우정', '로맨스', '인생', '의료']</td>\n",
       "    </tr>\n",
       "    <tr>\n",
       "      <th>3</th>\n",
       "      <td>슬기로운 의사생활 2</td>\n",
       "      <td>2021</td>\n",
       "      <td>['우정', '로맨스', '인생', '의료']</td>\n",
       "    </tr>\n",
       "    <tr>\n",
       "      <th>4</th>\n",
       "      <td>나의 아저씨</td>\n",
       "      <td>2018</td>\n",
       "      <td>['심리', '인생', '드라마', '가족']</td>\n",
       "    </tr>\n",
       "    <tr>\n",
       "      <th>...</th>\n",
       "      <td>...</td>\n",
       "      <td>...</td>\n",
       "      <td>...</td>\n",
       "    </tr>\n",
       "    <tr>\n",
       "      <th>496</th>\n",
       "      <td>킬미,힐미</td>\n",
       "      <td>2015</td>\n",
       "      <td>['로맨스', ' 로맨틱 코미디', ' 드라마']</td>\n",
       "    </tr>\n",
       "    <tr>\n",
       "      <th>497</th>\n",
       "      <td>여자를 울려</td>\n",
       "      <td>2015</td>\n",
       "      <td>['가족', ' 막장', ' 드라마']</td>\n",
       "    </tr>\n",
       "    <tr>\n",
       "      <th>498</th>\n",
       "      <td>화정</td>\n",
       "      <td>2015</td>\n",
       "      <td>['사극']</td>\n",
       "    </tr>\n",
       "    <tr>\n",
       "      <th>499</th>\n",
       "      <td>이브의 사랑</td>\n",
       "      <td>2015</td>\n",
       "      <td>['막장', ' 드라마']</td>\n",
       "    </tr>\n",
       "    <tr>\n",
       "      <th>500</th>\n",
       "      <td>그녀는 예뻤다</td>\n",
       "      <td>2015</td>\n",
       "      <td>['로맨스', ' 코미디']</td>\n",
       "    </tr>\n",
       "  </tbody>\n",
       "</table>\n",
       "<p>501 rows × 3 columns</p>\n",
       "</div>"
      ],
      "text/plain": [
       "            Name Year of release                          Genre\n",
       "0        무브 투 헤븐            2021            ['인생', '드라마', '가족']\n",
       "1           악의 꽃            2020  ['스릴러', '로맨스', '범죄', '멜로드라마']\n",
       "2      슬기로운 의사생활            2020      ['우정', '로맨스', '인생', '의료']\n",
       "3    슬기로운 의사생활 2            2021      ['우정', '로맨스', '인생', '의료']\n",
       "4         나의 아저씨            2018      ['심리', '인생', '드라마', '가족']\n",
       "..           ...             ...                            ...\n",
       "496        킬미,힐미            2015    ['로맨스', ' 로맨틱 코미디', ' 드라마']\n",
       "497       여자를 울려            2015          ['가족', ' 막장', ' 드라마']\n",
       "498           화정            2015                         ['사극']\n",
       "499       이브의 사랑            2015                 ['막장', ' 드라마']\n",
       "500      그녀는 예뻤다            2015                ['로맨스', ' 코미디']\n",
       "\n",
       "[501 rows x 3 columns]"
      ]
     },
     "execution_count": 6,
     "metadata": {},
     "output_type": "execute_result"
    }
   ],
   "source": [
    "data"
   ]
  },
  {
   "cell_type": "code",
   "execution_count": 11,
   "metadata": {},
   "outputs": [
    {
     "ename": "TypeError",
     "evalue": "'method' object is not subscriptable",
     "output_type": "error",
     "traceback": [
      "\u001b[1;31m---------------------------------------------------------------------------\u001b[0m",
      "\u001b[1;31mTypeError\u001b[0m                                 Traceback (most recent call last)",
      "Cell \u001b[1;32mIn[11], line 1\u001b[0m\n\u001b[1;32m----> 1\u001b[0m \u001b[43mdata\u001b[49m\u001b[38;5;241;43m.\u001b[39;49m\u001b[43mgroupby\u001b[49m\u001b[43m[\u001b[49m\u001b[38;5;124;43m'\u001b[39;49m\u001b[38;5;124;43mGenre\u001b[39;49m\u001b[38;5;124;43m'\u001b[39;49m\u001b[43m]\u001b[49m\n",
      "\u001b[1;31mTypeError\u001b[0m: 'method' object is not subscriptable"
     ]
    }
   ],
   "source": []
  },
  {
   "cell_type": "code",
   "execution_count": null,
   "metadata": {},
   "outputs": [],
   "source": []
  }
 ],
 "metadata": {
  "kernelspec": {
   "display_name": "Python 3",
   "language": "python",
   "name": "python3"
  },
  "language_info": {
   "codemirror_mode": {
    "name": "ipython",
    "version": 3
   },
   "file_extension": ".py",
   "mimetype": "text/x-python",
   "name": "python",
   "nbconvert_exporter": "python",
   "pygments_lexer": "ipython3",
   "version": "3.10.14"
  }
 },
 "nbformat": 4,
 "nbformat_minor": 2
}
